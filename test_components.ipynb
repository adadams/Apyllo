{
 "cells": [
  {
   "cell_type": "code",
   "execution_count": 1,
   "id": "0257b1d3-1c04-4b0e-91c8-30f79d6b87f8",
   "metadata": {},
   "outputs": [
    {
     "name": "stdout",
     "output_type": "stream",
     "text": [
      "Intel MKL WARNING: Support of Intel(R) Streaming SIMD Extensions 4.2 (Intel(R) SSE4.2) enabled only processors has been deprecated. Intel oneAPI Math Kernel Library 2025.0 will require Intel(R) Advanced Vector Extensions (Intel(R) AVX) instructions.\n",
      "Intel MKL WARNING: Support of Intel(R) Streaming SIMD Extensions 4.2 (Intel(R) SSE4.2) enabled only processors has been deprecated. Intel oneAPI Math Kernel Library 2025.0 will require Intel(R) Advanced Vector Extensions (Intel(R) AVX) instructions.\n"
     ]
    }
   ],
   "source": [
    "from matplotlib import pyplot as plt\n",
    "import numpy as np\n",
    "from Apollo_components import ReadInputsfromFile, ProcessInputs, MakeObservation, MakePlanet\n",
    "# from create_opacity_catalog import create_opacity_catalog\n",
    "\n",
    "from test_cython import calculate_Rayleigh_scattering\n",
    "\n",
    "# from chemlib import Compound"
   ]
  },
  {
   "cell_type": "code",
   "execution_count": 2,
   "id": "2b710804-9db4-498e-9068-e8e17b0c4cba",
   "metadata": {},
   "outputs": [
    {
     "name": "stdout",
     "output_type": "stream",
     "text": [
      "Reading in parameters.\n"
     ]
    }
   ],
   "source": [
    "inputs = ReadInputsfromFile(\"/Users/arthur/Documents/Astronomy/2019/Retrieval/Code/Results/2M2236/spectral_range/2M2236.Piette.G395H.retrieved.ensemble.2024-01-22.dat\")"
   ]
  },
  {
   "cell_type": "code",
   "execution_count": 3,
   "id": "f4e96ff2-8ebb-4d4c-9216-c13c8981f712",
   "metadata": {},
   "outputs": [
    {
     "name": "stdout",
     "output_type": "stream",
     "text": [
      "Reading in observations.\n"
     ]
    },
    {
     "ename": "FileNotFoundError",
     "evalue": "[Errno 2] No such file or directory: '/Volumes/Research/Opacities_0v10/gases/h2o.jwst50k.dat'",
     "output_type": "error",
     "traceback": [
      "\u001b[0;31m---------------------------------------------------------------------------\u001b[0m",
      "\u001b[0;31mFileNotFoundError\u001b[0m                         Traceback (most recent call last)",
      "Cell \u001b[0;32mIn[3], line 1\u001b[0m\n\u001b[0;32m----> 1\u001b[0m processed_inputs \u001b[38;5;241m=\u001b[39m ProcessInputs(\u001b[38;5;241m*\u001b[39m\u001b[38;5;241m*\u001b[39minputs)\n",
      "File \u001b[0;32m~/Documents/Astronomy/2019/Retrieval/Code/newAPOLLO/Apollo_components.py:700\u001b[0m, in \u001b[0;36mProcessInputs\u001b[0;34m(task, parallel, short, modestr, mode, name, pllen, pnames, vres, tstar, rstar, sma, nsteps, nvars, gray, tgray, atmtype, verbatim, sampler, nwalkers, override, printfull, b1, bnum, basic, g1, gnum, gases, a1, anum, c1, cnum, clouds, cloudmod, hazestr, hazetype, e1, enum, end, smooth, dist, plparams, norad, guess, mu, sigma, bounds, datain, dataconv, databin, degrade, lores, hires, opacdir, P_profile, minP, maxP, ensparams, streams)\u001b[0m\n\u001b[1;32m    696\u001b[0m \u001b[38;5;66;03m# Set model spectrum wavelength range\u001b[39;00m\n\u001b[1;32m    697\u001b[0m \n\u001b[1;32m    698\u001b[0m \u001b[38;5;66;03m# Compute hires spectrum wavelengths\u001b[39;00m\n\u001b[1;32m    699\u001b[0m opacfile \u001b[38;5;241m=\u001b[39m opacdir \u001b[38;5;241m+\u001b[39m \u001b[38;5;124m'\u001b[39m\u001b[38;5;124m/gases/h2o.\u001b[39m\u001b[38;5;124m'\u001b[39m \u001b[38;5;241m+\u001b[39m hires \u001b[38;5;241m+\u001b[39m \u001b[38;5;124m'\u001b[39m\u001b[38;5;124m.dat\u001b[39m\u001b[38;5;124m'\u001b[39m\n\u001b[0;32m--> 700\u001b[0m fopac \u001b[38;5;241m=\u001b[39m \u001b[38;5;28mopen\u001b[39m(opacfile,\u001b[38;5;124m'\u001b[39m\u001b[38;5;124mr\u001b[39m\u001b[38;5;124m'\u001b[39m)\n\u001b[1;32m    701\u001b[0m opacshape \u001b[38;5;241m=\u001b[39m fopac\u001b[38;5;241m.\u001b[39mreadline()\u001b[38;5;241m.\u001b[39msplit()\n\u001b[1;32m    702\u001b[0m fopac\u001b[38;5;241m.\u001b[39mclose()\n",
      "\u001b[0;31mFileNotFoundError\u001b[0m: [Errno 2] No such file or directory: '/Volumes/Research/Opacities_0v10/gases/h2o.jwst50k.dat'"
     ]
    }
   ],
   "source": [
    "processed_inputs = ProcessInputs(**inputs)"
   ]
  },
  {
   "cell_type": "code",
   "execution_count": null,
   "id": "270cb814-faed-41fd-8f9a-001b0927ecf5",
   "metadata": {},
   "outputs": [],
   "source": [
    "processed_inputs.keys()"
   ]
  },
  {
   "cell_type": "code",
   "execution_count": null,
   "id": "a1868575-f550-4f9e-ab00-bc8d61b070c3",
   "metadata": {},
   "outputs": [],
   "source": []
  },
  {
   "cell_type": "code",
   "execution_count": null,
   "id": "8cb99fe2-569e-492b-be37-f38acc9b07a5",
   "metadata": {},
   "outputs": [],
   "source": [
    "dir(processed_inputs[\"MakePlanet_kwargs\"])"
   ]
  },
  {
   "cell_type": "code",
   "execution_count": null,
   "id": "0d8ab6ce-4dac-4a52-ba55-b7693d7b7429",
   "metadata": {},
   "outputs": [],
   "source": [
    "planet = MakePlanet(processed_inputs[\"MakePlanet_kwargs\"])"
   ]
  },
  {
   "cell_type": "code",
   "execution_count": null,
   "id": "22c1645b-33c8-46e4-8245-a085382d1c29",
   "metadata": {},
   "outputs": [],
   "source": [
    "get_model = planet.MakeModel(processed_inputs[\"MakeModel_initialization_kwargs\"])"
   ]
  },
  {
   "cell_type": "code",
   "execution_count": null,
   "id": "9c075571-e99b-4cce-a169-c9b18d0a8999",
   "metadata": {},
   "outputs": [],
   "source": [
    "planet.cross_sections"
   ]
  },
  {
   "cell_type": "code",
   "execution_count": null,
   "id": "47d8603f-f4e2-4d9a-9412-c427d60e1fa4",
   "metadata": {},
   "outputs": [],
   "source": [
    "processed_inputs[\"parameters\"]"
   ]
  },
  {
   "cell_type": "code",
   "execution_count": null,
   "id": "4186d62b-6665-45a0-b45f-bc73acb7f059",
   "metadata": {},
   "outputs": [],
   "source": [
    "model = get_model(processed_inputs[\"parameters\"])"
   ]
  },
  {
   "cell_type": "code",
   "execution_count": null,
   "id": "5b735c78-e2b5-469d-8704-12bf2ad39771",
   "metadata": {},
   "outputs": [],
   "source": [
    "planet.cross_sections"
   ]
  },
  {
   "cell_type": "code",
   "execution_count": null,
   "id": "3f4c9dbe-7504-4d69-a7eb-78cd1e3b4158",
   "metadata": {},
   "outputs": [],
   "source": [
    "scattering = calculate_Rayleigh_scattering(planet.cross_sections, np.linspace(1.1, 2.5, num=20000), 71)"
   ]
  },
  {
   "cell_type": "code",
   "execution_count": null,
   "id": "878e24f2-4272-40ae-9195-1c31bebe1a9e",
   "metadata": {},
   "outputs": [],
   "source": [
    "scattering"
   ]
  },
  {
   "cell_type": "code",
   "execution_count": null,
   "id": "2c81a560-8b8c-431e-b9ac-c565b9489c25",
   "metadata": {},
   "outputs": [],
   "source": [
    "observation = MakeObservation(processed_inputs[\"ModelObservable_initialization_kwargs\"])"
   ]
  },
  {
   "cell_type": "code",
   "execution_count": null,
   "id": "95cff8c8-45f8-465d-a62a-06e5c50231b9",
   "metadata": {},
   "outputs": [],
   "source": [
    "obs_args = [np.asarray(model[0]), processed_inputs[\"parameters\"][0], \"Rad\", 0]"
   ]
  },
  {
   "cell_type": "code",
   "execution_count": null,
   "id": "09c5c975-f7a5-4fb4-9419-81da84becfd0",
   "metadata": {},
   "outputs": [],
   "source": [
    "observed_spectrum = observation(*obs_args)"
   ]
  },
  {
   "cell_type": "code",
   "execution_count": null,
   "id": "3704bea2-7530-476e-ae91-5c02e0d7135e",
   "metadata": {},
   "outputs": [],
   "source": [
    "plt.plot(observed_spectrum[0])"
   ]
  },
  {
   "cell_type": "code",
   "execution_count": null,
   "id": "e3b7f198-d940-4ea1-96de-81c21df6098f",
   "metadata": {},
   "outputs": [],
   "source": [
    "no_nitrogen = processed_inputs[\"parameters\"].copy()"
   ]
  },
  {
   "cell_type": "code",
   "execution_count": null,
   "id": "978f6ac6-759c-4ba6-8c7d-7fbda2f9f58e",
   "metadata": {},
   "outputs": [],
   "source": [
    "no_nitrogen[slice(5, 7)] = -12"
   ]
  },
  {
   "cell_type": "code",
   "execution_count": null,
   "id": "ddec77bd-6a4c-4db4-a4af-3fc04c2d7608",
   "metadata": {},
   "outputs": [],
   "source": [
    "no_nitrogen"
   ]
  },
  {
   "cell_type": "code",
   "execution_count": null,
   "id": "af748a1b-473c-4216-8451-324082491843",
   "metadata": {},
   "outputs": [],
   "source": [
    "no_N_model = get_model(no_nitrogen)"
   ]
  },
  {
   "cell_type": "code",
   "execution_count": null,
   "id": "f0b8a7c5-6cc4-4394-a253-d53e80094b2e",
   "metadata": {},
   "outputs": [],
   "source": [
    "observation = MakeObservation(processed_inputs[\"ModelObservable_initialization_kwargs\"])"
   ]
  },
  {
   "cell_type": "code",
   "execution_count": null,
   "id": "a1c1dfe4-3240-40a1-a1bd-10290f51a66e",
   "metadata": {},
   "outputs": [],
   "source": [
    "no_N2_obs_args = [np.asarray(no_N_model[0]), processed_inputs[\"parameters\"][0], \"Rad\", 0]"
   ]
  },
  {
   "cell_type": "code",
   "execution_count": null,
   "id": "18f71177-2863-47f9-abf7-9476a29902e1",
   "metadata": {},
   "outputs": [],
   "source": [
    "no_N2_observed_spectrum = observation(*no_N2_obs_args)"
   ]
  },
  {
   "cell_type": "code",
   "execution_count": null,
   "id": "7bde188e-361c-4258-8bd4-65fc216587d3",
   "metadata": {},
   "outputs": [],
   "source": [
    "plt.plot(observed_spectrum[0])\n",
    "plt.plot(no_N2_observed_spectrum[0])"
   ]
  },
  {
   "cell_type": "code",
   "execution_count": null,
   "id": "ab4a37ed-bdb8-410f-a880-b3e4296a91c2",
   "metadata": {},
   "outputs": [],
   "source": [
    "wave_lo, wave_hi, _, _, _, _ = np.genfromtxt(\"data/rory_APOLLO_template.dat\").T"
   ]
  },
  {
   "cell_type": "code",
   "execution_count": null,
   "id": "2befcb60-a2fd-4b2d-9d27-c9a6f7a073bc",
   "metadata": {},
   "outputs": [],
   "source": [
    "wave_mid = (wave_lo+wave_hi)/2"
   ]
  },
  {
   "cell_type": "code",
   "execution_count": null,
   "id": "facd7ab1-f279-487c-b028-1d8c95fc358f",
   "metadata": {},
   "outputs": [],
   "source": [
    "plt.plot(wave_mid, observed_spectrum[0])\n",
    "plt.plot(wave_mid, no_N2_observed_spectrum[0])"
   ]
  },
  {
   "cell_type": "code",
   "execution_count": null,
   "id": "e737599f-4fdc-4683-9490-29b05f6279a1",
   "metadata": {},
   "outputs": [],
   "source": [
    "for_rory = np.c_[wave_mid, observed_spectrum[0], no_N2_observed_spectrum[0]]"
   ]
  },
  {
   "cell_type": "code",
   "execution_count": null,
   "id": "450780eb-c963-481b-88fb-cd3a16692d8d",
   "metadata": {},
   "outputs": [],
   "source": [
    "np.savetxt(\"540K_solarCtoO_FeonH0.25_solarN_vs_noN.npy\", for_rory, \"%.6e\")"
   ]
  },
  {
   "cell_type": "code",
   "execution_count": null,
   "id": "6c265800-6b19-4201-858b-3f6d4c499908",
   "metadata": {},
   "outputs": [],
   "source": [
    "x = np.loadtxt(\"540K_solarCtoO_FeonH0.25_solarN_vs_noN.npy\")"
   ]
  },
  {
   "cell_type": "code",
   "execution_count": null,
   "id": "2b3b55e0-90c3-4c45-b4d0-bb42ae42a195",
   "metadata": {},
   "outputs": [],
   "source": [
    "x"
   ]
  },
  {
   "cell_type": "code",
   "execution_count": null,
   "id": "e12fb504-ae06-4f52-ab1c-46b9703eb073",
   "metadata": {},
   "outputs": [],
   "source": [
    "opacity_catalogs = create_opacity_catalog(\"/Volumes/ResearchStorage/Opacities_0v10/gases/\")"
   ]
  },
  {
   "cell_type": "code",
   "execution_count": null,
   "id": "e4dd88b0-d9ce-4fd7-99c2-aca365693e34",
   "metadata": {},
   "outputs": [],
   "source": [
    "opacity_catalogs[\"nir\"].load_tables([\"h2o\", \"ch4\", \"nh3\"])"
   ]
  },
  {
   "cell_type": "code",
   "execution_count": null,
   "id": "4dd1014e-949c-443a-9859-0b39715abeac",
   "metadata": {},
   "outputs": [],
   "source": [
    "opacity_catalogs[\"nir\"]"
   ]
  },
  {
   "cell_type": "code",
   "execution_count": null,
   "id": "5702457e-3ca2-4a3a-9478-706518a19a69",
   "metadata": {},
   "outputs": [],
   "source": [
    "c_tables = opacity_catalogs[\"nir\"].tables_as_c_format()"
   ]
  },
  {
   "cell_type": "code",
   "execution_count": null,
   "id": "26838a4b-2cae-4307-8d50-2b0b075854fa",
   "metadata": {},
   "outputs": [],
   "source": [
    "#compounds = []\n",
    "#for specie in opacity_catalogs[\"nir\"].species:\n",
    "#    try:\n",
    "#        compound = Compound(specie.upper())\n",
    "#    except IndexError:\n",
    "#        compound = None\n",
    "\n",
    "#    compounds.append(compound)"
   ]
  }
 ],
 "metadata": {
  "kernelspec": {
   "display_name": "reapollo",
   "language": "python",
   "name": "python3"
  },
  "language_info": {
   "codemirror_mode": {
    "name": "ipython",
    "version": 3
   },
   "file_extension": ".py",
   "mimetype": "text/x-python",
   "name": "python",
   "nbconvert_exporter": "python",
   "pygments_lexer": "ipython3",
   "version": "3.12.1"
  }
 },
 "nbformat": 4,
 "nbformat_minor": 5
}
