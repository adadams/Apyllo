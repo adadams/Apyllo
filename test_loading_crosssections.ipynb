{
 "cells": [
  {
   "cell_type": "code",
   "execution_count": 1,
   "id": "9ecf3a46-7465-46f2-bf34-2fc8a14296ea",
   "metadata": {},
   "outputs": [
    {
     "name": "stdout",
     "output_type": "stream",
     "text": [
      "Intel MKL WARNING: Support of Intel(R) Streaming SIMD Extensions 4.2 (Intel(R) SSE4.2) enabled only processors has been deprecated. Intel oneAPI Math Kernel Library 2025.0 will require Intel(R) Advanced Vector Extensions (Intel(R) AVX) instructions.\n",
      "Intel MKL WARNING: Support of Intel(R) Streaming SIMD Extensions 4.2 (Intel(R) SSE4.2) enabled only processors has been deprecated. Intel oneAPI Math Kernel Library 2025.0 will require Intel(R) Advanced Vector Extensions (Intel(R) AVX) instructions.\n"
     ]
    }
   ],
   "source": [
    "import numpy as np\n",
    "from pathlib import Path\n",
    "from pprint import pprint\n",
    "\n",
    "from apollo.crosssections import create_crosssection_catalog"
   ]
  },
  {
   "cell_type": "code",
   "execution_count": 2,
   "id": "d4ce5511-9f92-47ec-8278-4d8bd8c67994",
   "metadata": {},
   "outputs": [
    {
     "name": "stderr",
     "output_type": "stream",
     "text": [
      "/Users/arthur/Documents/Astronomy/2019/Retrieval/Code/APOLLO/apollo/crosssections.py:114: UserWarning: There is apparently more than one set of header info. Check to see all have the same pressure, temperature, and wavelength ranges, and/or resolutions.\n",
      "  warn(\n"
     ]
    }
   ],
   "source": [
    "catalog = create_crosssection_catalog(\"/Volumes/ResearchStorage/Opacities_0v10/gases\")"
   ]
  },
  {
   "cell_type": "code",
   "execution_count": 4,
   "id": "12429fc1-bbc7-4427-8133-481aeef4649a",
   "metadata": {},
   "outputs": [
    {
     "name": "stdout",
     "output_type": "stream",
     "text": [
      "CrossSectionDirectory(number_of_pressure_layers=18,\n",
      "                      minimum_log_pressure=-3,\n",
      "                      maximum_log_pressure=5.5,\n",
      "                      number_of_temperatures=36,\n",
      "                      minimum_log_temperature=1.87506,\n",
      "                      maximum_log_temperature=3.59985,\n",
      "                      number_of_spectral_elements=21204,\n",
      "                      minimum_wavelength=0.6,\n",
      "                      maximum_wavelength=5,\n",
      "                      effective_resolution=10000,\n",
      "                      pressures=array([-3. , -2.5, -2. , -1.5, -1. , -0.5,  0. ,  0.5,  1. ,  1.5,  2. ,\n",
      "        2.5,  3. ,  3.5,  4. ,  4.5,  5. ,  5.5]),\n",
      "                      temperatures=array([  74.99978182,   84.01168867,   94.1064582 ,  105.41420623,\n",
      "        118.08068317,  132.26915267,  148.16249601,  165.9655693 ,\n",
      "        185.90784398,  208.2463646 ,  233.26906191,  261.2984642 ,\n",
      "        292.69585446,  327.8659271 ,  367.26200429,  411.39187895,\n",
      "        460.82435996,  516.19660378,  578.22232699,  647.70100575,\n",
      "        725.52818054,  812.7069992 ,  910.36114689, 1019.74932982,\n",
      "       1142.28149919, 1279.53702466, 1433.28505158, 1605.5073042 ,\n",
      "       1798.42362898, 2014.52060718, 2256.58360542, 2527.73267748,\n",
      "       2831.46278006, 3171.68882068, 3552.79611869, 3979.69692951]),\n",
      "                      wavelengths=array([0.6       , 0.60006   , 0.60012001, ..., 4.99918239, 4.99968233,\n",
      "       5.00018232]),\n",
      "                      name='nir',\n",
      "                      species=('Burrows_alk',\n",
      "                               'ch4',\n",
      "                               'co',\n",
      "                               'co2',\n",
      "                               'crh',\n",
      "                               'feh',\n",
      "                               'h2',\n",
      "                               'h2he',\n",
      "                               'h2o',\n",
      "                               'h2only',\n",
      "                               'h2s',\n",
      "                               'hcn',\n",
      "                               'he',\n",
      "                               'Lupu_alk',\n",
      "                               'n2',\n",
      "                               'nh3',\n",
      "                               'ph3',\n",
      "                               'tio',\n",
      "                               'vo'),\n",
      "                      filepaths={'Burrows_alk': PosixPath('/Volumes/ResearchStorage/Opacities_0v10/gases/Burrows_alk.nir.dat'),\n",
      "                                 'Lupu_alk': PosixPath('/Volumes/ResearchStorage/Opacities_0v10/gases/Lupu_alk.nir.dat'),\n",
      "                                 'ch4': PosixPath('/Volumes/ResearchStorage/Opacities_0v10/gases/ch4.nir.dat'),\n",
      "                                 'co': PosixPath('/Volumes/ResearchStorage/Opacities_0v10/gases/co.nir.dat'),\n",
      "                                 'co2': PosixPath('/Volumes/ResearchStorage/Opacities_0v10/gases/co2.nir.dat'),\n",
      "                                 'crh': PosixPath('/Volumes/ResearchStorage/Opacities_0v10/gases/crh.nir.dat'),\n",
      "                                 'feh': PosixPath('/Volumes/ResearchStorage/Opacities_0v10/gases/feh.nir.dat'),\n",
      "                                 'h2': PosixPath('/Volumes/ResearchStorage/Opacities_0v10/gases/h2.nir.dat'),\n",
      "                                 'h2he': PosixPath('/Volumes/ResearchStorage/Opacities_0v10/gases/h2he.nir.dat'),\n",
      "                                 'h2o': PosixPath('/Volumes/ResearchStorage/Opacities_0v10/gases/h2o.nir.dat'),\n",
      "                                 'h2only': PosixPath('/Volumes/ResearchStorage/Opacities_0v10/gases/h2only.nir.dat'),\n",
      "                                 'h2s': PosixPath('/Volumes/ResearchStorage/Opacities_0v10/gases/h2s.nir.dat'),\n",
      "                                 'hcn': PosixPath('/Volumes/ResearchStorage/Opacities_0v10/gases/hcn.nir.dat'),\n",
      "                                 'he': PosixPath('/Volumes/ResearchStorage/Opacities_0v10/gases/he.nir.dat'),\n",
      "                                 'n2': PosixPath('/Volumes/ResearchStorage/Opacities_0v10/gases/n2.nir.dat'),\n",
      "                                 'nh3': PosixPath('/Volumes/ResearchStorage/Opacities_0v10/gases/nh3.nir.dat'),\n",
      "                                 'ph3': PosixPath('/Volumes/ResearchStorage/Opacities_0v10/gases/ph3.nir.dat'),\n",
      "                                 'tio': PosixPath('/Volumes/ResearchStorage/Opacities_0v10/gases/tio.nir.dat'),\n",
      "                                 'vo': PosixPath('/Volumes/ResearchStorage/Opacities_0v10/gases/vo.nir.dat')})\n"
     ]
    }
   ],
   "source": [
    "pprint(catalog[\"nir\"])"
   ]
  },
  {
   "cell_type": "code",
   "execution_count": null,
   "id": "ac45d110-6eda-4fef-8a47-015a7f9af3e3",
   "metadata": {},
   "outputs": [],
   "source": [
    "test_directory = catalog[\"nir\"]"
   ]
  },
  {
   "cell_type": "code",
   "execution_count": null,
   "id": "bf421689-eb1d-4126-b458-d67407080d8c",
   "metadata": {},
   "outputs": [],
   "source": [
    "opacity_Dataset = load_crosssections_into_Dataset(test_directory)"
   ]
  },
  {
   "cell_type": "code",
   "execution_count": null,
   "id": "cc59c027-6bfc-44cc-9881-6f73e5ac2526",
   "metadata": {},
   "outputs": [],
   "source": [
    "opacity_Dataset.wavelengths.attrs.update(dict(units=\"micron\"))"
   ]
  },
  {
   "cell_type": "code",
   "execution_count": null,
   "id": "6b1a9800-9ef1-4240-af10-9cd97cb4f29d",
   "metadata": {},
   "outputs": [],
   "source": [
    "opacity_Dataset.pressures.attrs.update(dict(units=\"dex(mbar)\"))"
   ]
  },
  {
   "cell_type": "code",
   "execution_count": null,
   "id": "0c5f83b4-a061-4570-aba6-5438990e9cd5",
   "metadata": {},
   "outputs": [],
   "source": [
    "opacity_Dataset.temperatures.attrs.update(dict(units=\"K\"))"
   ]
  },
  {
   "cell_type": "code",
   "execution_count": null,
   "id": "4c2f5df9-a042-44c3-82df-adcf498ee553",
   "metadata": {},
   "outputs": [],
   "source": [
    "#nc_save_file = \"nir_opacities.nc\"\n",
    "#opacity_Dataset.to_netcdf(nc_save_file)"
   ]
  },
  {
   "cell_type": "code",
   "execution_count": null,
   "id": "4ca06f53-e92c-48e2-84a6-be18617c43ae",
   "metadata": {},
   "outputs": [],
   "source": [
    "opacity_Dataset"
   ]
  },
  {
   "cell_type": "code",
   "execution_count": null,
   "id": "cdff9af9-27e6-4892-be37-8ffe675f3da7",
   "metadata": {},
   "outputs": [],
   "source": [
    "from scipy.interpolate import PchipInterpolator as monotonic_interpolation\n",
    "from scipy.ndimage import gaussian_filter1d as gaussian_smoothing"
   ]
  },
  {
   "cell_type": "code",
   "execution_count": null,
   "id": "acb5dc12-43f2-4cd8-b3ae-593c3acee8c8",
   "metadata": {},
   "outputs": [],
   "source": [
    "def piette(T_m4, T_m3, T_m2, T_m1, T_0, T_0p5, T_1, T_1p5, T_2, T_2p5,\n",
    "           num_layers_final=71, P_min=-4, P_max=2.5):\n",
    "    logP_nodes = np.array([-4, -3, -2, -1, 0, 0.5, 1, 1.5, 2])\n",
    "    T_nodes = np.array([T_m4, T_m3, T_m2, T_m1, T_0, T_0p5, T_1, T_1p5, T_2])\n",
    "\n",
    "    interpolated_function = monotonic_interpolation(logP_nodes, T_nodes)\n",
    "    input_Ps = np.linspace(P_min, P_max, num=num_layers_final)\n",
    "\n",
    "    profile = gaussian_smoothing(interpolated_function(input_Ps), sigma=0.3)\n",
    "\n",
    "    return profile"
   ]
  },
  {
   "cell_type": "code",
   "execution_count": null,
   "id": "bc9bd72d-20ee-4b9b-a85f-84dd90c2d7fe",
   "metadata": {},
   "outputs": [],
   "source": [
    "Ps = np.linspace(-4, 2.5, num=71)\n",
    "Ts = piette(697, 769, 802, 914, 967, 968, 1021, 1096, 1102, 1119)"
   ]
  },
  {
   "cell_type": "code",
   "execution_count": null,
   "id": "b3aab7b4-ec61-41a0-ad90-e12f41383f65",
   "metadata": {},
   "outputs": [],
   "source": [
    "import chunks_as_classes as cac\n",
    "from pathlib import Path\n",
    "from matplotlib import pyplot as plt"
   ]
  },
  {
   "cell_type": "code",
   "execution_count": null,
   "id": "28ce0ef8-3fe3-41a7-9afe-47dbcd430aa1",
   "metadata": {},
   "outputs": [],
   "source": [
    "test_data_file = Path(\"/Users/arthur/Documents/Astronomy/2019/Retrieval/Code/Data/mock-L/mock-L.2022-12-08.forward-model.PLO.JHK.noised.dat\")\n",
    "band_names = [\"J\", \"H\", \"Ks\"]"
   ]
  },
  {
   "cell_type": "code",
   "execution_count": null,
   "id": "7dc4a3d3-62a2-4c90-b39f-0c3f98741e1f",
   "metadata": {},
   "outputs": [],
   "source": [
    "JHK_data = cac.read_APOLLO_data(test_data_file, band_names)"
   ]
  },
  {
   "cell_type": "code",
   "execution_count": null,
   "id": "0f286c73-4e1b-4766-a9f5-949dbb0ec0c0",
   "metadata": {},
   "outputs": [],
   "source": [
    "waves = JHK_data[\"J\"].wavelengths[1:]"
   ]
  },
  {
   "cell_type": "code",
   "execution_count": null,
   "id": "a58a616e-f34b-4b5e-97c6-616789cdeb03",
   "metadata": {},
   "outputs": [],
   "source": [
    "waves"
   ]
  },
  {
   "cell_type": "code",
   "execution_count": null,
   "id": "8bee04e2-8dbb-406f-9691-9a7bc577f22e",
   "metadata": {},
   "outputs": [],
   "source": [
    "opacities_interpd = opacity_Dataset.interp(\n",
    "    pressures=Ps,\n",
    "    temperatures=Ts,\n",
    "    wavelengths=waves,\n",
    "    assume_sorted=True\n",
    ")"
   ]
  },
  {
   "cell_type": "code",
   "execution_count": null,
   "id": "53e2c7cd-8e16-4dfc-841f-ec9ea322bc1a",
   "metadata": {},
   "outputs": [],
   "source": [
    "opacities_interpd"
   ]
  },
  {
   "cell_type": "code",
   "execution_count": null,
   "id": "afa76c0a-f676-448c-b05a-872ef6c1e050",
   "metadata": {},
   "outputs": [],
   "source": [
    "nc_interpd_save_file = \"nir_opacities_test_interp_to_data.nc\"\n",
    "opacities_interpd.to_netcdf(nc_interpd_save_file)"
   ]
  },
  {
   "cell_type": "code",
   "execution_count": null,
   "id": "ab32c6a1-057c-44d7-a4f5-98fc723ebce8",
   "metadata": {},
   "outputs": [],
   "source": []
  }
 ],
 "metadata": {
  "kernelspec": {
   "display_name": "reapollo",
   "language": "python",
   "name": "python3"
  },
  "language_info": {
   "codemirror_mode": {
    "name": "ipython",
    "version": 3
   },
   "file_extension": ".py",
   "mimetype": "text/x-python",
   "name": "python",
   "nbconvert_exporter": "python",
   "pygments_lexer": "ipython3",
   "version": "3.12.1"
  }
 },
 "nbformat": 4,
 "nbformat_minor": 5
}
